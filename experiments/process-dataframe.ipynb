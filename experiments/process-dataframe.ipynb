{
 "cells": [
  {
   "cell_type": "code",
   "execution_count": 1,
   "metadata": {},
   "outputs": [],
   "source": [
    "from dotenv import dotenv_values\n",
    "\n",
    "import pandas as pd\n",
    "import json\n",
    "import jsonlines\n",
    "from pathlib import Path\n",
    "import ast\n",
    "import numpy as np\n",
    "\n",
    "from mrcad import Design, Drawing, Line, Arc, Circle\n",
    "from data_conversion_utils import get_design_from_record, get_strokes_from_record"
   ]
  },
  {
   "cell_type": "code",
   "execution_count": 2,
   "metadata": {},
   "outputs": [],
   "source": [
    "ENV = dotenv_values(\"../.env\")"
   ]
  },
  {
   "cell_type": "code",
   "execution_count": 3,
   "metadata": {},
   "outputs": [],
   "source": [
    "df = pd.read_csv(Path(ENV[\"DATA_DIR\"]) / ENV[\"DATAFRAME_FILE\"])\n",
    "df.rename(columns={\"trialId_sp\": \"trialId\"}, inplace=True)"
   ]
  },
  {
   "cell_type": "code",
   "execution_count": 4,
   "metadata": {},
   "outputs": [],
   "source": [
    "consolidated_df = (\n",
    "    df[~df.practice_sp] # exclude practice trials\n",
    "    .sort_values(\"roundNum\")\n",
    "    .groupby(\"trialId\")\n",
    "    .agg(\n",
    "        {\n",
    "            \"trialId\": \"first\",\n",
    "            \"text\": list,\n",
    "            \"targetId\": \"first\",\n",
    "            \"target\": \"first\",\n",
    "            \"dyadId\": \"first\",\n",
    "            \"trialNum\": \"first\",\n",
    "            \"roundNum\": list,\n",
    "            \"prevJsGeometries_li\": list,\n",
    "            \"jsGeometries\": list,\n",
    "            \"strokes\": list,\n",
    "            \"distance\": list,\n",
    "            'currentDistance': list,\n",
    "            \"subset\": \"first\",\n",
    "        }\n",
    "    ))\n",
    "\n",
    "consolidated_df = consolidated_df[\n",
    "        (\n",
    "            consolidated_df.roundNum.apply(\n",
    "                lambda x: x == [i + 1 for i, _ in enumerate(x)]\n",
    "            ) # ensure the rounds are in order and all of them are present\n",
    "        )\n",
    "        & (consolidated_df.distance.apply(lambda x: x[-1] < 0.2)) # ensure the distance is less than 0.2\n",
    "    ]\n"
   ]
  },
  {
   "cell_type": "code",
   "execution_count": 5,
   "metadata": {},
   "outputs": [],
   "source": [
    "consolidated_df[\"trajectory\"] = consolidated_df.apply(lambda x: {\n",
    "    \"trial_id\": x[\"trialId\"],\n",
    "    \"target_id\": x[\"targetId\"],\n",
    "    \"target\": ast.literal_eval(x[\"target\"])[\"design\"],\n",
    "    \"dyad_id\": x[\"dyadId\"],\n",
    "    \"trial_num\": x[\"trialNum\"],\n",
    "    \"rounds\": [{\n",
    "        \"round_num\": round_num,\n",
    "        \"context\": get_design_from_record(ast.literal_eval(context)).model_dump(mode=\"json\") if context != \"[]\" else Design(curves=[]).model_dump(mode=\"json\"),\n",
    "        \"instruction\": {\n",
    "            \"text\": text if isinstance(text, str) else '',\n",
    "            \"drawing\": {\"splines\": get_strokes_from_record(ast.literal_eval(strokes))}\n",
    "        },\n",
    "        \"execution\": {\"design\": get_design_from_record(ast.literal_eval(execution)).model_dump(mode=\"json\")},\n",
    "    } for (round_num, text, strokes, context, execution) in zip(x[\"roundNum\"], x[\"text\"], x[\"strokes\"], x[\"prevJsGeometries_li\"], x[\"jsGeometries\"])],\n",
    "}, axis=1)"
   ]
  },
  {
   "cell_type": "code",
   "execution_count": 6,
   "metadata": {},
   "outputs": [],
   "source": [
    "with jsonlines.open(Path(ENV[\"DATA_DIR\"]) / ENV[\"OUTPUT_DATA_FILE\"], \"w\") as writer:\n",
    "    for i, row in enumerate(consolidated_df.itertuples()):\n",
    "        writer.write(row.trajectory)"
   ]
  },
  {
   "cell_type": "code",
   "execution_count": 7,
   "metadata": {},
   "outputs": [],
   "source": [
    "coverage_df = consolidated_df[consolidated_df.subset == \"coverage\"]\n",
    "coverage_test_df = coverage_df.sample(n=110, random_state=412)\n",
    "coverage_train_df = coverage_df.drop(coverage_test_df.index)"
   ]
  },
  {
   "cell_type": "code",
   "execution_count": 8,
   "metadata": {},
   "outputs": [],
   "source": [
    "eval_df = consolidated_df[consolidated_df.subset == \"eval\"]\n",
    "eval_squared_targets = eval_df[eval_df.groupby('targetId')['trialId'].transform('count') == 3].targetId.unique()\n",
    "eval_test_targets = np.random.RandomState(412).choice(eval_squared_targets, size=30, replace=False)\n",
    "\n",
    "eval_test_df = eval_df[eval_df.targetId.isin(eval_test_targets)]\n",
    "eval_train_df = eval_df[~eval_df.targetId.isin(eval_test_targets)]"
   ]
  },
  {
   "cell_type": "code",
   "execution_count": 9,
   "metadata": {},
   "outputs": [],
   "source": [
    "eval_train_one_per_target_df = eval_train_df.groupby('targetId').sample(n=1)\n",
    "eval_train_others_df = eval_train_df.drop(eval_train_one_per_target_df.index)"
   ]
  },
  {
   "cell_type": "code",
   "execution_count": 10,
   "metadata": {},
   "outputs": [],
   "source": [
    "test_df = pd.concat([coverage_test_df, eval_test_df])"
   ]
  },
  {
   "cell_type": "code",
   "execution_count": 11,
   "metadata": {},
   "outputs": [],
   "source": [
    "with jsonlines.open(Path(ENV[\"DATA_DIR\"]) / \"coverage_train.jsonl\", \"w\") as writer:\n",
    "    for i, row in enumerate(coverage_train_df.itertuples()):\n",
    "        writer.write(row.trajectory)\n",
    "\n",
    "with jsonlines.open(Path(ENV[\"DATA_DIR\"]) / \"eval_train_one_per_target.jsonl\", \"w\") as writer:\n",
    "    for i, row in enumerate(eval_train_one_per_target_df.itertuples()):\n",
    "        writer.write(row.trajectory)\n",
    "\n",
    "with jsonlines.open(Path(ENV[\"DATA_DIR\"]) / \"eval_train_others.jsonl\", \"w\") as writer:\n",
    "    for i, row in enumerate(eval_train_others_df.itertuples()):\n",
    "        writer.write(row.trajectory)\n",
    "\n",
    "with jsonlines.open(Path(ENV[\"DATA_DIR\"]) / \"test.jsonl\", \"w\") as writer:\n",
    "    for i, row in enumerate(test_df.itertuples()):\n",
    "        writer.write(row.trajectory)"
   ]
  },
  {
   "cell_type": "code",
   "execution_count": null,
   "metadata": {},
   "outputs": [],
   "source": []
  }
 ],
 "metadata": {
  "kernelspec": {
   "display_name": "mrcad-env",
   "language": "python",
   "name": "python3"
  },
  "language_info": {
   "codemirror_mode": {
    "name": "ipython",
    "version": 3
   },
   "file_extension": ".py",
   "mimetype": "text/x-python",
   "name": "python",
   "nbconvert_exporter": "python",
   "pygments_lexer": "ipython3",
   "version": "3.11.9"
  }
 },
 "nbformat": 4,
 "nbformat_minor": 2
}
