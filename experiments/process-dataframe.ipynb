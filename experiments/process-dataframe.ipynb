{
 "cells": [
  {
   "cell_type": "code",
   "execution_count": 1,
   "metadata": {},
   "outputs": [],
   "source": [
    "from dotenv import dotenv_values\n",
    "\n",
    "import pandas as pd\n",
    "import json\n",
    "import jsonlines\n",
    "from pathlib import Path\n",
    "import ast\n",
    "import numpy as np\n",
    "\n",
    "from mrcad import Design, Drawing, Line, Arc, Circle"
   ]
  },
  {
   "cell_type": "code",
   "execution_count": 2,
   "metadata": {},
   "outputs": [],
   "source": [
    "import sys\n",
    "import os\n",
    "\n",
    "sys.path.append(os.path.abspath(\"..\"))\n",
    "\n",
    "from agents.editing_actions import (\n",
    "    EditExecution,\n",
    "    RemoveCurve,\n",
    "    MoveCurve,\n",
    "    DeletePoint,\n",
    "    MovePoint,\n",
    "    MakeCurve,\n",
    ")\n",
    "\n",
    "from data_conversion_utils import (\n",
    "    get_design_from_record,\n",
    "    get_strokes_from_record,\n",
    "    get_edit_actions_from_record,\n",
    ")"
   ]
  },
  {
   "cell_type": "code",
   "execution_count": 3,
   "metadata": {},
   "outputs": [],
   "source": [
    "DISTANCE_THRESHOLD = 0.2"
   ]
  },
  {
   "cell_type": "code",
   "execution_count": 4,
   "metadata": {},
   "outputs": [],
   "source": [
    "ENV = dotenv_values(\"../.env\")"
   ]
  },
  {
   "cell_type": "code",
   "execution_count": 5,
   "metadata": {},
   "outputs": [],
   "source": [
    "df = pd.read_csv(Path(ENV[\"DATA_DIR\"]) / ENV[\"DATAFRAME_FILE\"])\n",
    "df.rename(columns={\"trialId_sp\": \"trialId\"}, inplace=True)"
   ]
  },
  {
   "cell_type": "code",
   "execution_count": 6,
   "metadata": {},
   "outputs": [],
   "source": [
    "consolidated_df = (\n",
    "    df[~df.practice_sp] # exclude practice trials\n",
    "    .sort_values(\"roundNum\")\n",
    "    .groupby(\"trialId\")\n",
    "    .agg(\n",
    "        {\n",
    "            \"trialId\": \"first\",\n",
    "            \"text\": list,\n",
    "            \"targetId\": \"first\",\n",
    "            \"target\": \"first\",\n",
    "            \"dyadId\": \"first\",\n",
    "            \"trialNum\": \"first\",\n",
    "            \"roundNum\": list,\n",
    "            \"prevJsGeometries_li\": list,\n",
    "            \"jsGeometries\": list,\n",
    "            \"strokes\": list,\n",
    "            \"distance\": list,\n",
    "            \"experiment_subset\": \"first\",\n",
    "            \"actions\": list,\n",
    "            \"prevActions\": list\n",
    "        }\n",
    "    ))"
   ]
  },
  {
   "cell_type": "code",
   "execution_count": 7,
   "metadata": {},
   "outputs": [],
   "source": [
    "consolidated_df[\"verified\"] = consolidated_df.apply(\n",
    "    lambda x: x.distance[-1] < DISTANCE_THRESHOLD and x.roundNum == [i + 1 for i, _ in enumerate(x.roundNum)], axis=1\n",
    ")"
   ]
  },
  {
   "cell_type": "code",
   "execution_count": 8,
   "metadata": {},
   "outputs": [],
   "source": [
    "consolidated_df[\"trajectory\"] = consolidated_df.apply(\n",
    "    lambda x: {\n",
    "        \"trial_id\": x[\"trialId\"], \n",
    "        \"target_id\": x[\"targetId\"],\n",
    "        \"target\": ast.literal_eval(x[\"target\"])[\"design\"],\n",
    "        \"dyad_id\": x[\"dyadId\"],\n",
    "        \"trial_num\": x[\"trialNum\"],\n",
    "        \"rounds\": [\n",
    "            {\n",
    "                \"round_num\": round_num,\n",
    "                \"context\": (\n",
    "                    get_design_from_record(ast.literal_eval(context)).model_dump(\n",
    "                        mode=\"json\"\n",
    "                    )\n",
    "                    if context != \"[]\"\n",
    "                    else Design(curves=[]).model_dump(mode=\"json\")\n",
    "                ),\n",
    "                \"instruction\": {\n",
    "                    \"text\": text if isinstance(text, str) else \"\",\n",
    "                    \"drawing\": {\n",
    "                        \"splines\": get_strokes_from_record(ast.literal_eval(strokes))\n",
    "                    },\n",
    "                },\n",
    "                \"execution\": {\n",
    "                    \"design\": get_design_from_record(\n",
    "                        ast.literal_eval(execution)\n",
    "                    ).model_dump(mode=\"json\"),\n",
    "                },\n",
    "                \"edit_execution\": EditExecution.execute(\n",
    "                    (\n",
    "                        get_design_from_record(ast.literal_eval(context))\n",
    "                        if context != \"[]\"\n",
    "                        else Design(curves=[])\n",
    "                    ),\n",
    "                    get_edit_actions_from_record(\n",
    "                        ast.literal_eval(actions)[len(ast.literal_eval(prevActions)) :],\n",
    "                        (\n",
    "                            get_design_from_record(ast.literal_eval(context))\n",
    "                            if context != \"[]\"\n",
    "                            else Design(curves=[])\n",
    "                        ),\n",
    "                        get_design_from_record(ast.literal_eval(execution)),\n",
    "                    ),\n",
    "                ).model_dump(mode=\"json\"),\n",
    "            }\n",
    "            for (\n",
    "                round_num,\n",
    "                text,\n",
    "                strokes,\n",
    "                context,\n",
    "                execution,\n",
    "                actions,\n",
    "                prevActions,\n",
    "            ) in zip(\n",
    "                x[\"roundNum\"],\n",
    "                x[\"text\"],\n",
    "                x[\"strokes\"],\n",
    "                x[\"prevJsGeometries_li\"],\n",
    "                x[\"jsGeometries\"],\n",
    "                x[\"actions\"],\n",
    "                x[\"prevActions\"],\n",
    "            )\n",
    "        ],\n",
    "    },\n",
    "    axis=1,\n",
    ")"
   ]
  },
  {
   "cell_type": "code",
   "execution_count": 9,
   "metadata": {},
   "outputs": [
    {
     "data": {
      "text/html": [
       "<div>\n",
       "<style scoped>\n",
       "    .dataframe tbody tr th:only-of-type {\n",
       "        vertical-align: middle;\n",
       "    }\n",
       "\n",
       "    .dataframe tbody tr th {\n",
       "        vertical-align: top;\n",
       "    }\n",
       "\n",
       "    .dataframe thead th {\n",
       "        text-align: right;\n",
       "    }\n",
       "</style>\n",
       "<table border=\"1\" class=\"dataframe\">\n",
       "  <thead>\n",
       "    <tr style=\"text-align: right;\">\n",
       "      <th></th>\n",
       "      <th>trialId</th>\n",
       "      <th>targetId</th>\n",
       "      <th>dyadId</th>\n",
       "    </tr>\n",
       "    <tr>\n",
       "      <th>experiment_subset</th>\n",
       "      <th></th>\n",
       "      <th></th>\n",
       "      <th></th>\n",
       "    </tr>\n",
       "  </thead>\n",
       "  <tbody>\n",
       "    <tr>\n",
       "      <th>coverage</th>\n",
       "      <td>2684</td>\n",
       "      <td>2614</td>\n",
       "      <td>441</td>\n",
       "    </tr>\n",
       "    <tr>\n",
       "      <th>eval</th>\n",
       "      <td>3094</td>\n",
       "      <td>874</td>\n",
       "      <td>517</td>\n",
       "    </tr>\n",
       "  </tbody>\n",
       "</table>\n",
       "</div>"
      ],
      "text/plain": [
       "                   trialId  targetId  dyadId\n",
       "experiment_subset                           \n",
       "coverage              2684      2614     441\n",
       "eval                  3094       874     517"
      ]
     },
     "execution_count": 9,
     "metadata": {},
     "output_type": "execute_result"
    }
   ],
   "source": [
    "consolidated_df[['trialId', 'targetId', 'dyadId', 'experiment_subset']].groupby('experiment_subset').nunique()"
   ]
  },
  {
   "cell_type": "code",
   "execution_count": 10,
   "metadata": {},
   "outputs": [],
   "source": [
    "consolidated_df[(consolidated_df.experiment_subset == 'coverage')&(consolidated_df.verified)].trajectory.to_json(Path(ENV[\"DATA_DIR\"]) / \"coverage_verified.jsonl\", orient=\"records\", lines=True)"
   ]
  },
  {
   "cell_type": "code",
   "execution_count": 11,
   "metadata": {},
   "outputs": [],
   "source": [
    "consolidated_df[(consolidated_df.experiment_subset == 'coverage')&(~consolidated_df.verified)].trajectory.to_json(Path(ENV[\"DATA_DIR\"]) / \"coverage_unverified.jsonl\", orient=\"records\", lines=True)"
   ]
  },
  {
   "cell_type": "code",
   "execution_count": 12,
   "metadata": {},
   "outputs": [],
   "source": [
    "consolidated_df[(consolidated_df.experiment_subset == 'eval')&(~consolidated_df.verified)].trajectory.to_json(Path(ENV[\"DATA_DIR\"]) / \"eval_unverified.jsonl\", orient=\"records\", lines=True)"
   ]
  },
  {
   "cell_type": "code",
   "execution_count": 13,
   "metadata": {},
   "outputs": [],
   "source": [
    "eval_verified_df = consolidated_df[(consolidated_df.experiment_subset == 'eval')&(consolidated_df.verified)]\n",
    "\n",
    "trial_counts = eval_verified_df.groupby('targetId')['trialId'].nunique()\n",
    "completed_targets = trial_counts[trial_counts >= 3].index.tolist()"
   ]
  },
  {
   "cell_type": "code",
   "execution_count": 14,
   "metadata": {},
   "outputs": [],
   "source": [
    "eval_verified_df[eval_verified_df['targetId'].isin(completed_targets)].trajectory.to_json(Path(ENV[\"DATA_DIR\"]) / \"eval_verified_complete.jsonl\", orient=\"records\", lines=True)"
   ]
  },
  {
   "cell_type": "code",
   "execution_count": 15,
   "metadata": {},
   "outputs": [],
   "source": [
    "eval_verified_df[~eval_verified_df['targetId'].isin(completed_targets)].trajectory.to_json(Path(ENV[\"DATA_DIR\"]) / \"eval_verified_incomplete.jsonl\", orient=\"records\", lines=True)"
   ]
  }
 ],
 "metadata": {
  "kernelspec": {
   "display_name": "mrcad-env",
   "language": "python",
   "name": "python3"
  },
  "language_info": {
   "codemirror_mode": {
    "name": "ipython",
    "version": 3
   },
   "file_extension": ".py",
   "mimetype": "text/x-python",
   "name": "python",
   "nbconvert_exporter": "python",
   "pygments_lexer": "ipython3",
   "version": "3.11.9"
  }
 },
 "nbformat": 4,
 "nbformat_minor": 2
}
